{
 "cells": [
  {
   "cell_type": "code",
   "execution_count": null,
   "id": "eb4d581b-4db1-46bd-9622-6786e432b9d5",
   "metadata": {},
   "outputs": [],
   "source": []
  },
  {
   "cell_type": "markdown",
   "id": "8aca46ac-f917-4cec-bb03-11b1a4214c3f",
   "metadata": {},
   "source": [
    "# Лабораторная работа 2\n",
    "# Встроенные типы объектов в Python"
   ]
  },
  {
   "cell_type": "markdown",
   "id": "0d8721da-f4c8-4b3d-a26e-e1afa3d402e2",
   "metadata": {},
   "source": [
    "#### Игнатьева Ксения, 05.03 "
   ]
  },
  {
   "cell_type": "markdown",
   "id": "be9ee04b-dfdd-45eb-9cee-dd88e10f2101",
   "metadata": {},
   "source": [
    "# Задание 1. \n",
    "### Построение иерархии встроенных типов в Python"
   ]
  },
  {
   "cell_type": "markdown",
   "id": "930b7b17-6689-4c59-a134-c47ec96e60d8",
   "metadata": {},
   "source": [
    "Создадим иерархическую модель дерева:"
   ]
  },
  {
   "cell_type": "markdown",
   "id": "8eb72bc8-119c-4d00-afa8-8969ef52a0bb",
   "metadata": {},
   "source": [
    "<h3><center> Встроенные типы </center></h3>\n",
    "<div style=\"display: flex; justify-content: space-between; padding: 0 400px;\">\n",
    "    <span><h3>Числа</h3></span>\n",
    "    <span style=\"margin-left: 400px;\"><h3>Коллекции</h3></span>\n",
    "</div>\n",
    "<div style=\"display: flex; justify-content: space-between; padding: 0 20px;\">\n",
    "    <span><h4>Целые числа</h4></span>\n",
    "    <span style=\"margin-left: 40px;\"><h4>Числа с плавающей точкой </h4></span>\n",
    "     <span style=\"margin-left: 40px;\"><h4>Комплексные числа  </h4></span>\n",
    "     <span style=\"margin-left: 150px;\"><h4>Отображения </h4></span>\n",
    "     <span style=\"margin-left: 50px;\"><h4>Множества  </h4></span>\n",
    "    <span style=\"margin-left: 40px;\"><h4>Последовательности </h4></span>\n",
    "</div>\n",
    "<div style=\"display: flex; justify-content: space-between; padding: 0 10px;\">\n",
    "  <span ><h4> Булевый тип  </h4></span>\n",
    "    <span style=\"margin-left: 950px;\"><h4>Списки </h4></span>\n",
    "    <span style=\"margin-left: 40px;\"><h4>Строки</h4></span>\n",
    "    <span style=\"margin-left: 40px;\"><h4>Кортежи </h4></span>\n",
    "</div>"
   ]
  },
  {
   "cell_type": "markdown",
   "id": "0cc32185-a858-4f9f-99a1-e00e0ea41993",
   "metadata": {},
   "source": [
    "# Задание 2.1 \n",
    "## Проработка примеров, представленных в лекционном файле"
   ]
  },
  {
   "cell_type": "markdown",
   "id": "bde656f0-ece2-40ea-ba26-dccfc18794f4",
   "metadata": {},
   "source": [
    "# Задание 2.2 \n",
    "## Решение заданий"
   ]
  },
  {
   "cell_type": "markdown",
   "id": "b9843daf-ed67-4bf3-8261-e11ba3dfe30e",
   "metadata": {},
   "source": [
    "*2.2 Встроенные типы объектов, представляющих числа*"
   ]
  },
  {
   "cell_type": "code",
   "execution_count": 108,
   "id": "86315071-cdde-4021-97f1-99220c519676",
   "metadata": {},
   "outputs": [
    {
     "name": "stdout",
     "output_type": "stream",
     "text": [
      "0.04000000000000001 0.04\n",
      "0.5 0.5\n",
      "0.25 0.25\n"
     ]
    }
   ],
   "source": [
    "import decimal as dec\n",
    "print(0.1*0.4, dec.Decimal('0.1')*dec.Decimal('0.4'))\n",
    "print(0.1+0.4, dec.Decimal('0.1')+dec.Decimal('0.4'))\n",
    "print(0.1/0.4, dec.Decimal('0.1')/dec.Decimal('0.4'))"
   ]
  },
  {
   "cell_type": "code",
   "execution_count": 109,
   "id": "7638136b-f210-4031-bc2d-6eb2e9b69b6c",
   "metadata": {},
   "outputs": [
    {
     "name": "stdout",
     "output_type": "stream",
     "text": [
      "0.505 9/8\n",
      "0.06375 9/32\n"
     ]
    }
   ],
   "source": [
    "import fractions\n",
    "print(0.25+0.255,fractions.Fraction(3,4)+fractions.Fraction(3,8))\n",
    "print(0.25*0.255,fractions.Fraction(3,4)*fractions.Fraction(3,8))"
   ]
  },
  {
   "cell_type": "markdown",
   "id": "0fbbe872-02fc-413e-92ac-dcea580398d0",
   "metadata": {},
   "source": [
    "*2.3 Встроенные типы последовательностей: str, list, tuple*"
   ]
  },
  {
   "cell_type": "code",
   "execution_count": 110,
   "id": "b79d150d-b7b5-4a62-87f5-30fd866e9bd3",
   "metadata": {},
   "outputs": [
    {
     "name": "stdout",
     "output_type": "stream",
     "text": [
      "slam\n"
     ]
    }
   ],
   "source": [
    "s='spam'\n",
    "s=s[:1]+'l'+s[2:]\n",
    "print(s)"
   ]
  },
  {
   "cell_type": "markdown",
   "id": "50a621cb-2e2c-46c4-8555-3c78630bc250",
   "metadata": {},
   "source": [
    "Похожее рассуждение можно выполнить используя индексацию и конкатенацию"
   ]
  },
  {
   "cell_type": "code",
   "execution_count": 111,
   "id": "7e9c0834-ea9d-479b-92f2-6d2301dafdfe",
   "metadata": {},
   "outputs": [
    {
     "name": "stdout",
     "output_type": "stream",
     "text": [
      "slam\n"
     ]
    }
   ],
   "source": [
    "s='spam'\n",
    "s=s[0]+'l'+s[2:]\n",
    "print(s)"
   ]
  },
  {
   "cell_type": "markdown",
   "id": "982600c2-68c9-4d97-b4fc-2e9942a6d6e4",
   "metadata": {},
   "source": [
    "Операция присваивание по индексу не работает, так как строка является неизменяемым объектом"
   ]
  },
  {
   "cell_type": "code",
   "execution_count": 112,
   "id": "c98e407b-d907-43b3-a33f-e06db53493ef",
   "metadata": {},
   "outputs": [
    {
     "ename": "TypeError",
     "evalue": "'str' object does not support item assignment",
     "output_type": "error",
     "traceback": [
      "\u001b[1;31m---------------------------------------------------------------------------\u001b[0m",
      "\u001b[1;31mTypeError\u001b[0m                                 Traceback (most recent call last)",
      "Cell \u001b[1;32mIn[112], line 2\u001b[0m\n\u001b[0;32m      1\u001b[0m s\u001b[38;5;241m=\u001b[39m\u001b[38;5;124m'\u001b[39m\u001b[38;5;124mspam\u001b[39m\u001b[38;5;124m'\u001b[39m\n\u001b[1;32m----> 2\u001b[0m s[\u001b[38;5;241m1\u001b[39m]\u001b[38;5;241m=\u001b[39m\u001b[38;5;124m'\u001b[39m\u001b[38;5;124ml\u001b[39m\u001b[38;5;124m'\u001b[39m\n\u001b[0;32m      3\u001b[0m \u001b[38;5;28mprint\u001b[39m(s)\n",
      "\u001b[1;31mTypeError\u001b[0m: 'str' object does not support item assignment"
     ]
    }
   ],
   "source": [
    "s='spam'\n",
    "s[1]='l'\n",
    "print(s)"
   ]
  },
  {
   "cell_type": "markdown",
   "id": "159fc65f-b9bd-4c1d-943f-7538980ea891",
   "metadata": {},
   "source": [
    "Проведем рассуждения для `list` </br>\n",
    "Так как `list` является изменяемый объектом, то элемент `p` мы можем изменить с помощью индексации"
   ]
  },
  {
   "cell_type": "code",
   "execution_count": null,
   "id": "aedcaf19-ed6a-4519-9c1f-846cca33b999",
   "metadata": {},
   "outputs": [],
   "source": [
    "l=list('spam')\n",
    "l[1]='l'\n",
    "print(l)\n",
    "l = \"\".join(l)\n",
    "l"
   ]
  },
  {
   "cell_type": "markdown",
   "id": "2d4ea398-d5bc-4fde-8139-d5f3208cd053",
   "metadata": {},
   "source": [
    "Можно также рассуждать с помощью нарезки и конкатенации"
   ]
  },
  {
   "cell_type": "code",
   "execution_count": null,
   "id": "7392d58b-b404-4121-8a84-977fcf42bbe0",
   "metadata": {},
   "outputs": [],
   "source": [
    "l=list('spam')\n",
    "l = l[:1] + ['l'] + l[2:]  \n",
    "print(l) "
   ]
  },
  {
   "cell_type": "code",
   "execution_count": null,
   "id": "e4561631-8193-4aed-8449-26e97e1e6e5c",
   "metadata": {},
   "outputs": [],
   "source": [
    "l=list('spam')\n",
    "l = l[0] + ['l'] + l[2:]  \n",
    "print(l) "
   ]
  },
  {
   "cell_type": "markdown",
   "id": "da79d1ee-8c99-49f1-93ac-3778aff2daf1",
   "metadata": {},
   "source": [
    "Однако когда мы вызываем `l[0]` возвращаемый объект типа `str`, но мы не можем складывать строки и списки, поэтому запись ошибочна"
   ]
  },
  {
   "cell_type": "markdown",
   "id": "d9cb52cc-fbac-4e78-b77a-0825ac3dc4ab",
   "metadata": {},
   "source": [
    "Проделаем те же манипуляции и с кортежом"
   ]
  },
  {
   "cell_type": "code",
   "execution_count": null,
   "id": "f3f81e6c-456d-47f3-9708-a7d71219b1fd",
   "metadata": {},
   "outputs": [],
   "source": [
    "t=tuple('spam')\n",
    "t[1]='l'\n",
    "print(t)"
   ]
  },
  {
   "cell_type": "markdown",
   "id": "b3b101b9-e71f-4da3-8fc6-1ade902a6cb6",
   "metadata": {},
   "source": [
    "Так как `tuple` является изменяемый объектом, то элемент `p` мы можем изменить с помощью индексации"
   ]
  },
  {
   "cell_type": "code",
   "execution_count": null,
   "id": "462f8190-7806-4fbe-bf9c-1e0906d79cfe",
   "metadata": {},
   "outputs": [],
   "source": [
    "t=tuple('spam')\n",
    "t=t[0]+(l,)+t[2:]\n",
    "print(t)"
   ]
  },
  {
   "cell_type": "markdown",
   "id": "b20b5ba4-7871-42d2-bf05-309a086ef9db",
   "metadata": {},
   "source": [
    "Когда мы вызываем `l[0]` возвращаемый объект типа `str`, но мы не можем складывать котрежи и списки, поэтому запись ошибочна"
   ]
  },
  {
   "cell_type": "code",
   "execution_count": null,
   "id": "1beff141-61f8-4e2c-9038-61609e48d7de",
   "metadata": {},
   "outputs": [],
   "source": [
    "t=tuple('spam')\n",
    "t=t[:1]+('l',)+t[2:]\n",
    "print(t)"
   ]
  },
  {
   "cell_type": "markdown",
   "id": "92fd4777-73fb-48ec-b3c8-d3df0b58b9ba",
   "metadata": {},
   "source": [
    "Способ нарезки и кокатенации работает"
   ]
  },
  {
   "cell_type": "markdown",
   "id": "39d86e81-0447-4472-b0ca-c50ac2a16f40",
   "metadata": {},
   "source": [
    "*2.4 Встроенный тип отображения: dict*"
   ]
  },
  {
   "cell_type": "code",
   "execution_count": null,
   "id": "b3ba311a-4176-4b07-aaec-3b9b82fb9372",
   "metadata": {},
   "outputs": [],
   "source": [
    "i={'name':'Ksusha','patronymic':'Igorevna', 'surname':'Ignateva', 'address':'Minck',\n",
    "'age':17,'work':'tutor','email':'kseniya.ihnatsyeva@gmail.com','phone':375336749787}\n",
    "i['email']"
   ]
  },
  {
   "cell_type": "markdown",
   "id": "60fb33b8-2d88-498b-a982-cb79a2795be9",
   "metadata": {},
   "source": [
    "`dict` словарь является более осмысленной структурой, так как обращение к данным происходит по ключу. И нам не важно на какой позиции находится та или иная информаия, единственное что нам важно это результат после вызова необходимых данны. В данном случае `list` и `tuple` будут неэффективны, так как для вызова нужно знать индекс, что неэффективно для поиска, и усложняет получение информации"
   ]
  },
  {
   "cell_type": "markdown",
   "id": "dc16765c-eef2-4b79-966c-35cc17996ff6",
   "metadata": {},
   "source": [
    "*2.5 Встроенный тип множества: set*"
   ]
  },
  {
   "cell_type": "code",
   "execution_count": null,
   "id": "6d81c070-76ff-44db-88f5-f0d79c73dd57",
   "metadata": {},
   "outputs": [],
   "source": [
    "sentance='pampampampp'\n",
    "print(sentance)\n",
    "sentance1=str(set(sentance))\n",
    "print(sentance1)\n",
    "print(''.join(set(sentance)))"
   ]
  },
  {
   "cell_type": "markdown",
   "id": "6187a7fe-ed36-4073-8d71-2f1fbe14fbfb",
   "metadata": {},
   "source": [
    "*2.8. Интерфейс объекта: операции и методы*"
   ]
  },
  {
   "cell_type": "code",
   "execution_count": null,
   "id": "05353286-ffd4-43a1-a2b9-070cab0f259d",
   "metadata": {},
   "outputs": [],
   "source": [
    "s='marry'\n",
    "l=[i for i in range(5)]+[2]*4\n",
    "k=(1,5)\n",
    "s.count('r'),l.count(1),k.count(1)"
   ]
  },
  {
   "cell_type": "code",
   "execution_count": null,
   "id": "94f43bdb-0a4f-4dde-b9f2-c9825287a662",
   "metadata": {},
   "outputs": [],
   "source": [
    "s.index('r'),l.index(1),k.index(5)"
   ]
  },
  {
   "cell_type": "code",
   "execution_count": null,
   "id": "9db77adf-887e-43f2-bbd2-112e0d711863",
   "metadata": {},
   "outputs": [],
   "source": [
    "s='canada'\n",
    "s=s.upper()\n",
    "s"
   ]
  },
  {
   "cell_type": "markdown",
   "id": "318b93e9-dd83-4b52-9ea9-21053c23b392",
   "metadata": {},
   "source": [
    "Строковый метод upper преобразовывает буквенные символы строки в строчные буквы; небуквенные символы остаются без изменений"
   ]
  },
  {
   "cell_type": "code",
   "execution_count": null,
   "id": "85ddb26e-a25c-4223-89a1-b7610a07c1da",
   "metadata": {},
   "outputs": [],
   "source": [
    "s='-'.join(s)\n",
    "s"
   ]
  },
  {
   "cell_type": "markdown",
   "id": "9edbae8e-bc66-4f44-af70-7707249f7257",
   "metadata": {},
   "source": [
    "Метод sep.join(obj) используется для объединения элементов итерируемого объекта (obj) в одну строку, вставляя между элементами строку-разделитель sep."
   ]
  },
  {
   "cell_type": "code",
   "execution_count": null,
   "id": "4b0b1703-31d6-44b8-b1ad-ceb0347226a8",
   "metadata": {},
   "outputs": [],
   "source": [
    "s=s.replace('-',',')\n",
    "s"
   ]
  },
  {
   "cell_type": "markdown",
   "id": "4f953fa3-99a3-4660-b36e-1e9c366dbd42",
   "metadata": {},
   "source": [
    "Строковый метод replace(sub1, sub2) заменяет одну подстроку sub1 на другую подстроку sub2"
   ]
  },
  {
   "cell_type": "code",
   "execution_count": null,
   "id": "60960abf-69d3-4cbd-8d54-67e613319fb4",
   "metadata": {},
   "outputs": [],
   "source": [
    "lis=s.split('/')\n",
    "lis.append('Poland');lis.insert(2,'Poland');lis.extend((1,2,3,4,5))\n",
    "lis"
   ]
  },
  {
   "cell_type": "markdown",
   "id": "c3da0a2d-c598-4251-8099-f8fd9a601a72",
   "metadata": {},
   "source": [
    "В примере представлены три возможные случая добавления элементов в список:\n",
    "- append(el) добавляет объект el в конец списка\n",
    "- extend(els) добавляет несколько объектов из коллекции els в конец\n",
    "списка\n",
    "- insert(pos, el) добавляет элемент el в позицию pos"
   ]
  },
  {
   "cell_type": "markdown",
   "id": "ede751b5-911c-4dde-9ae2-660cceadacb6",
   "metadata": {},
   "source": [
    "Ключ (key) — это функция, которая применяется к каждому элементу списка перед сортировкой. Вместо сравнения самих элементов сравниваются их преобразованные значения."
   ]
  },
  {
   "cell_type": "code",
   "execution_count": null,
   "id": "5c9bac2b-34e3-4f1c-94e1-271713a0fe89",
   "metadata": {},
   "outputs": [],
   "source": [
    "s = [\"monday\", \"tuesday\", \"wednesday\", \"friday\"]\n",
    "s.sort(key=len)\n",
    "s"
   ]
  },
  {
   "cell_type": "markdown",
   "id": "60bd5ed3-b1a8-45ab-847a-836f0d8a2325",
   "metadata": {},
   "source": [
    "Метод `sort` изменяет изначальный список и не возвращает новое значение."
   ]
  },
  {
   "cell_type": "markdown",
   "id": "fd4bf346-a88a-4ce6-85bf-770d9aaa2bed",
   "metadata": {},
   "source": [
    "Словарь можно создать с помощью метода словаря fromkeys , передавая последовательность ключей и одно значение, которое будет ассоциировано со всеми ключами из последовательности"
   ]
  },
  {
   "cell_type": "code",
   "execution_count": null,
   "id": "a264ccbe-40ef-499e-811c-ac97cef40dd5",
   "metadata": {},
   "outputs": [],
   "source": [
    "dict1 = dict.fromkeys(range(1, 101), 'hey')\n",
    "dict1"
   ]
  },
  {
   "cell_type": "markdown",
   "id": "1a2cf3e4-b2ba-40d4-a8ec-ada9e555a8d2",
   "metadata": {},
   "source": [
    "*2.9 Переменная*"
   ]
  },
  {
   "cell_type": "markdown",
   "id": "3507f277-8183-44d3-b406-676bef1fc098",
   "metadata": {},
   "source": [
    "Если объект содержит ссылку на самого себя, то он становится циклическим объектом"
   ]
  },
  {
   "cell_type": "code",
   "execution_count": null,
   "id": "9a1757f1-200f-4782-ba49-04f1eabbf1cd",
   "metadata": {},
   "outputs": [],
   "source": [
    "a=[i for i in range(5)]\n",
    "a.append(a)\n",
    "a"
   ]
  },
  {
   "cell_type": "code",
   "execution_count": null,
   "id": "69d9c823-7c14-4eb1-844d-757b284285fc",
   "metadata": {},
   "outputs": [],
   "source": [
    "a=set('banana')\n",
    "a.update(a)\n",
    "a"
   ]
  },
  {
   "cell_type": "markdown",
   "id": "9b41cfce-29d0-4bb4-9ed2-dc57cd22052c",
   "metadata": {},
   "source": [
    "set не может содержать дубликаты, поэтому повторное добавление тех же элементов ничего не меняет"
   ]
  },
  {
   "cell_type": "code",
   "execution_count": null,
   "id": "1f0da57c-710e-46a3-a168-365fefd7f99f",
   "metadata": {},
   "outputs": [],
   "source": [
    "a={'mon':1,'tue':2}\n",
    "a['wed']=a;a"
   ]
  },
  {
   "cell_type": "code",
   "execution_count": null,
   "id": "38f8f5a2-7994-4f59-9770-da93c0c2c8ba",
   "metadata": {},
   "outputs": [],
   "source": [
    "a=[i for i in range(5)],\n",
    "a[0].append(a)\n",
    "a"
   ]
  },
  {
   "cell_type": "code",
   "execution_count": null,
   "id": "81ae36c7-49eb-4209-8ce6-2a0f21680288",
   "metadata": {},
   "outputs": [],
   "source": [
    "a=b=c=d='hey'"
   ]
  },
  {
   "cell_type": "code",
   "execution_count": null,
   "id": "e622b3fb-a277-4975-86da-c2ceec3c6210",
   "metadata": {},
   "outputs": [],
   "source": [
    "sys.getrefcount(a)"
   ]
  },
  {
   "cell_type": "markdown",
   "id": "ee6a4fa0-ee9e-4044-826f-ad8043883ad4",
   "metadata": {},
   "source": [
    "Но sys.getrefcount(a) возвращает на 1 больше, потому что Python создаёт временную ссылку при передаче объекта в функцию"
   ]
  },
  {
   "cell_type": "markdown",
   "id": "1038e931-b197-4fd5-81ca-93667e1a4d95",
   "metadata": {},
   "source": [
    "Копирование последовательностей возможно посредством операции среза по всем элементам [:]"
   ]
  },
  {
   "cell_type": "code",
   "execution_count": null,
   "id": "cd70aedb-5e5d-4bc1-b256-f95d535121c7",
   "metadata": {},
   "outputs": [],
   "source": [
    "tab=[4,5,6]\n",
    "new1=tab[:]\n",
    "new1,tab"
   ]
  },
  {
   "cell_type": "markdown",
   "id": "6b809e55-b2be-400e-bf43-80571482f78f",
   "metadata": {},
   "source": [
    "Копирование изменяемых объектов возможно с помощью метода copy"
   ]
  },
  {
   "cell_type": "code",
   "execution_count": null,
   "id": "9ac6970b-5fc3-43fe-b05c-69976792ad0a",
   "metadata": {},
   "outputs": [],
   "source": [
    "new2=tab.copy()\n",
    "new2,tab"
   ]
  },
  {
   "cell_type": "markdown",
   "id": "c8ff000c-b591-4ae5-8e57-d4bacf6fb338",
   "metadata": {},
   "source": [
    "Копирование объектов возможно с помощью вызова соответствующих функций-конструкторов"
   ]
  },
  {
   "cell_type": "code",
   "execution_count": null,
   "id": "0bf63739-6703-4817-bdc8-e4e3b1750253",
   "metadata": {},
   "outputs": [],
   "source": [
    "new3=tab.__class__(tab)\n",
    "new3,tab"
   ]
  },
  {
   "cell_type": "markdown",
   "id": "07de7aa4-d047-41ec-b684-d29fdbb759a8",
   "metadata": {},
   "source": [
    "*2.10 Выражение спискового включения*"
   ]
  },
  {
   "cell_type": "code",
   "execution_count": null,
   "id": "38fcd7fe-079e-45fd-a25c-7255a2159739",
   "metadata": {},
   "outputs": [],
   "source": [
    "{n for n in 'bamby' if n!='b'}"
   ]
  },
  {
   "cell_type": "code",
   "execution_count": null,
   "id": "686d289c-59ba-4385-a0a5-5f72cbd60aac",
   "metadata": {
    "scrolled": true
   },
   "outputs": [],
   "source": [
    "[[f'x{i}{j}' for j in range(9)] for i in range(8)]"
   ]
  },
  {
   "cell_type": "markdown",
   "id": "97460525-318d-422e-85f0-23c928512d3a",
   "metadata": {},
   "source": [
    "Массив созданный на основе списка"
   ]
  },
  {
   "cell_type": "code",
   "execution_count": null,
   "id": "51623c36-82b2-4596-b5a4-7e4e3f9e4fca",
   "metadata": {},
   "outputs": [],
   "source": [
    "import numpy as np\n",
    "[[f'a{i}{j}' for j in np.arange(9)] for i in np.arange(8)]"
   ]
  },
  {
   "cell_type": "markdown",
   "id": "dd11a02c-4127-4d61-8b1c-d61dfcb986a9",
   "metadata": {},
   "source": [
    "Массив созданный на основе numpy массива ndarray"
   ]
  },
  {
   "cell_type": "code",
   "execution_count": null,
   "id": "9b6d8f36-5113-4824-a556-af1926d48625",
   "metadata": {},
   "outputs": [],
   "source": [
    "{i: [x for x in '567'] for i in ['Fri', 'Sut', 'Sun']}\n"
   ]
  },
  {
   "cell_type": "code",
   "execution_count": null,
   "id": "fc5149bb-50bf-468b-9682-398fcfa3887b",
   "metadata": {},
   "outputs": [],
   "source": [
    "{i: {j: i * j for j in range(1, 5)} for i in range(1, 5)}"
   ]
  },
  {
   "cell_type": "markdown",
   "id": "12b792ae-ba12-4511-b6c4-42ca96e471a7",
   "metadata": {},
   "source": [
    "*2.11 Форматированный вывод строк*"
   ]
  },
  {
   "cell_type": "markdown",
   "id": "a57e2e7b-c14e-4f37-bf7c-d8cd53cedd1f",
   "metadata": {},
   "source": [
    "Использование переменной `variable`"
   ]
  },
  {
   "cell_type": "code",
   "execution_count": null,
   "id": "e81d3721-8f5e-4277-a984-0a9fef168680",
   "metadata": {},
   "outputs": [],
   "source": [
    "variable = 42\n",
    "f\"{variable=:.3e}\"\n",
    "\"variable=%d\" % variable\n",
    "\"variable=:.2f\".format(variable)"
   ]
  },
  {
   "cell_type": "markdown",
   "id": "fb66f3c1-57f8-45ae-b35d-bedb55134d98",
   "metadata": {},
   "source": [
    "Использование выражения `expression`"
   ]
  },
  {
   "cell_type": "code",
   "execution_count": null,
   "id": "a30ff317-e950-44a7-b376-f4d3af2eba7e",
   "metadata": {},
   "outputs": [],
   "source": [
    "x = 25\n",
    "y = x**2 - 4*x + 8\n",
    "print(f'{y=:.3f}')\n",
    "\"y=%.2f\" % y\n",
    "\"y={:.3e}\".format(y)"
   ]
  },
  {
   "cell_type": "markdown",
   "id": "bb6db2d3-4317-443d-9252-1a5d15f55920",
   "metadata": {},
   "source": [
    "*2.12 Файловый объект*"
   ]
  },
  {
   "cell_type": "code",
   "execution_count": 120,
   "id": "0dd55ef3-dca8-4f18-ba13-944fc118b726",
   "metadata": {},
   "outputs": [
    {
     "name": "stdout",
     "output_type": "stream",
     "text": [
      "London is the capital of the UK and a major global city.\n",
      "It is famous for landmarks like Big Ben and the Tower of London.\n",
      "Millions of tourists visit every year to explore its history and culture.\n",
      "\n"
     ]
    }
   ],
   "source": [
    "file = open('London.txt')\n",
    "print(file.read())\n",
    "file.close() \n"
   ]
  },
  {
   "cell_type": "code",
   "execution_count": 121,
   "id": "249292b1-f44a-4643-9f17-2ca7540d189d",
   "metadata": {},
   "outputs": [
    {
     "name": "stdout",
     "output_type": "stream",
     "text": [
      "London is the c\n"
     ]
    }
   ],
   "source": [
    "file = open('London.txt')\n",
    "print(file.read(15))\n",
    "file.close()"
   ]
  },
  {
   "cell_type": "code",
   "execution_count": 122,
   "id": "0ec0f752-afbe-47ba-99aa-f55bb5375f4a",
   "metadata": {},
   "outputs": [
    {
     "name": "stdout",
     "output_type": "stream",
     "text": [
      "London is the capital of the UK and a major global city.\n",
      "\n"
     ]
    }
   ],
   "source": [
    "file = open('London.txt')\n",
    "print(file.readline())\n",
    "file.close()"
   ]
  },
  {
   "cell_type": "code",
   "execution_count": 123,
   "id": "b1c9c0bd-c038-4d23-937f-0227abc03366",
   "metadata": {},
   "outputs": [
    {
     "name": "stdout",
     "output_type": "stream",
     "text": [
      "['London is the capital of the UK and a major global city.\\n', 'It is famous for landmarks like Big Ben and the Tower of London.\\n', 'Millions of tourists visit every year to explore its history and culture.\\n']\n"
     ]
    }
   ],
   "source": [
    "file = open('London.txt')\n",
    "print(file.readlines())\n",
    "file.close()"
   ]
  },
  {
   "cell_type": "code",
   "execution_count": 124,
   "id": "b5a87982-3193-4961-854f-516ee2824b4d",
   "metadata": {},
   "outputs": [
    {
     "name": "stdout",
     "output_type": "stream",
     "text": [
      "London is the capital of the UK and a major global city.\n",
      "It is famous for landmarks like Big Ben and the Tower of London.\n",
      "Millions of tourists visit every year to explore its history and culture.\n",
      " I like this town\n",
      "\n"
     ]
    }
   ],
   "source": [
    "file = open('London.txt','a')\n",
    "file.write(' I like this town' + '\\n')\n",
    "file.close()\n",
    "file = open('London.txt')\n",
    "print(file.read())\n",
    "file.close()\n"
   ]
  },
  {
   "cell_type": "code",
   "execution_count": 125,
   "id": "34adf922-27da-4e5e-b97c-1e317ced8c86",
   "metadata": {},
   "outputs": [
    {
     "name": "stdout",
     "output_type": "stream",
     "text": [
      "London is the capital of the UK and a major global city.\n",
      "It is famous for landmarks like Big Ben and the Tower of London.\n",
      "Millions of tourists visit every year to explore its history and culture.\n",
      " I like this town\n",
      " And I want to visit it \n",
      "\n"
     ]
    }
   ],
   "source": [
    "file = open('London.txt','a') \n",
    "file.writelines([' And I want ', 'to visit it \\n'])\n",
    "file.close()\n",
    "file = open('London.txt','r')\n",
    "print(file.read())\n",
    "file.close()"
   ]
  },
  {
   "cell_type": "code",
   "execution_count": 126,
   "id": "e8ee17d4-a2c1-4d3e-b428-fa6f3255d2d5",
   "metadata": {},
   "outputs": [
    {
     "name": "stdout",
     "output_type": "stream",
     "text": [
      "London is the capital of the UK and a major global city.\n",
      "It is famous for landmarks like Big Ben and the Tower of London.\n",
      "Millions of tourists visit every year to explore its history and culture.\n",
      " I like this town\n",
      " And I want to visit it \n"
     ]
    }
   ],
   "source": [
    "with open('London.txt') as file:\n",
    "    for line in file:\n",
    "        print(line, end=\"\")"
   ]
  },
  {
   "cell_type": "markdown",
   "id": "c6b06d61-0eb7-49ad-8354-5388ff14ca4a",
   "metadata": {},
   "source": [
    "# Задание 2.3\n",
    "## Исправление ошибок"
   ]
  },
  {
   "cell_type": "markdown",
   "id": "b295099f-ee17-417b-b107-b8694e38ab52",
   "metadata": {},
   "source": [
    "#### *Ошибка 1*"
   ]
  },
  {
   "cell_type": "code",
   "execution_count": null,
   "id": "a99d2c72-d5bd-4f61-98d2-3e3b728019ed",
   "metadata": {},
   "outputs": [],
   "source": [
    "print('\\c \\xc6')"
   ]
  },
  {
   "cell_type": "markdown",
   "id": "db2134a9-b5b9-448e-b6f2-b2082e3df404",
   "metadata": {},
   "source": [
    "Данная ошибка появляется вследствие того, что питон не распознает символ после \\ в качестве допустимого управляющего кода\n",
    "Исправить это можно либо убрав \\с, либо для отмены действии управляющих символом после косой черты, перед строкой следует поставить `r` или `R`"
   ]
  },
  {
   "cell_type": "code",
   "execution_count": null,
   "id": "f11afb52-a905-4d39-87be-4b8125c7e917",
   "metadata": {},
   "outputs": [],
   "source": [
    "print(r'\\c \\xc6')\n",
    "print('\\xc6')"
   ]
  },
  {
   "cell_type": "markdown",
   "id": "48e9875a-e356-4ac0-8945-fc50b0b74899",
   "metadata": {},
   "source": [
    "#### *Ошибка 2*"
   ]
  },
  {
   "cell_type": "code",
   "execution_count": null,
   "id": "4fa644ec-8e75-4d81-a1d8-a71c6c0f754b",
   "metadata": {},
   "outputs": [],
   "source": [
    "str1 = 'String'; \n",
    "str1[10]"
   ]
  },
  {
   "cell_type": "markdown",
   "id": "d06a8341-8259-448c-ad22-ab966157a54d",
   "metadata": {},
   "source": [
    "Индексация за пределами последовательности приводит к ошибке"
   ]
  },
  {
   "cell_type": "markdown",
   "id": "a9e07dbd-6f3f-476a-870e-ec3e8adbb75c",
   "metadata": {},
   "source": [
    "#### *Ошибка 3*"
   ]
  },
  {
   "cell_type": "code",
   "execution_count": null,
   "id": "89a36b05-c45d-404c-bdbc-ef3136e3b80c",
   "metadata": {},
   "outputs": [],
   "source": [
    "[1] + '1'"
   ]
  },
  {
   "cell_type": "markdown",
   "id": "2535395e-ecf0-4b76-abef-0fd9ef2fc725",
   "metadata": {},
   "source": [
    "В выражении с операцией сложения `+` для последовательностей в качестве операндов могут быть использованы только объекты **одного и того же типа. Нельзя использовать последовательности различных типов в операции сложения + из-за строгой типизации объектов в Python. Автоматическое преобразование типов не производится в Python.\n"
   ]
  },
  {
   "cell_type": "markdown",
   "id": "9877041d-d273-4fcf-9b18-067cb8a9c688",
   "metadata": {},
   "source": [
    "#### *Ошибка 4*"
   ]
  },
  {
   "cell_type": "code",
   "execution_count": null,
   "id": "8c92ae5c-d8ae-4c79-a15e-eec8eaf3df65",
   "metadata": {},
   "outputs": [],
   "source": [
    "dict1 = {'one': 1,\"new\":4}"
   ]
  },
  {
   "cell_type": "code",
   "execution_count": null,
   "id": "b70f863f-72d8-487c-a294-9a180049965a",
   "metadata": {},
   "outputs": [],
   "source": [
    "dict1[\"two\"]"
   ]
  },
  {
   "cell_type": "markdown",
   "id": "8d8b9655-6c21-4858-9f07-9ef1cf022e98",
   "metadata": {},
   "source": [
    "Индексация по несуществующему ключу словаря приводит к ошибке"
   ]
  },
  {
   "cell_type": "markdown",
   "id": "1e85ec84-77b7-4607-8063-bfdd11330028",
   "metadata": {},
   "source": [
    "#### *Ошибка 5*"
   ]
  },
  {
   "cell_type": "code",
   "execution_count": null,
   "id": "85d67521-a868-4d62-b701-5d198b02e578",
   "metadata": {},
   "outputs": [],
   "source": [
    "t = [1,2], {1:2}, {1,2}; t[0] = 0"
   ]
  },
  {
   "cell_type": "markdown",
   "id": "c8bfac51-7bd5-4df3-ac5d-6c6297653df9",
   "metadata": {},
   "source": [
    "Кортеж нельзя изменять, перезаписывать после создания, уменьшить либо увеличить также нельзя"
   ]
  },
  {
   "cell_type": "markdown",
   "id": "4a0f2b53-614c-47d7-b600-204f95366bc1",
   "metadata": {},
   "source": [
    "#### *Ошибка 6*"
   ]
  },
  {
   "cell_type": "code",
   "execution_count": null,
   "id": "ece1e8a2-4467-49b3-82bf-911e55088265",
   "metadata": {},
   "outputs": [],
   "source": [
    "{1, 'str', (1,)}.add([1])"
   ]
  },
  {
   "cell_type": "markdown",
   "id": "9ebd0819-5906-4a94-a182-19b23a0bdb4e",
   "metadata": {},
   "source": [
    "Элементами множества могут являться только объекты неизменяемых типов: число, строка, кортеж. Список является изменяемым объектом\n"
   ]
  },
  {
   "cell_type": "markdown",
   "id": "b57ffc1c-f075-49d2-a8f2-ad0a4c68223b",
   "metadata": {},
   "source": [
    "#### *Ошибка 7*"
   ]
  },
  {
   "cell_type": "code",
   "execution_count": null,
   "id": "fbd5605f-bc23-42d5-b5bd-6a74a1039555",
   "metadata": {},
   "outputs": [],
   "source": [
    "s='string'\n",
    "print(s, s.find('-'))"
   ]
  },
  {
   "cell_type": "code",
   "execution_count": null,
   "id": "e497b0e7-85e9-418b-a9d2-d4260c21c36f",
   "metadata": {},
   "outputs": [],
   "source": [
    "s.index('-')"
   ]
  },
  {
   "cell_type": "markdown",
   "id": "1b300a3b-8b3c-4e8e-bae7-21ac214e2b44",
   "metadata": {},
   "source": [
    "Отличаются результаты выполнения методов find и index тогда, когда подстрока не содержится в строке. Find возвращает отрицательный индекс, а index возвращает ошибку."
   ]
  },
  {
   "cell_type": "markdown",
   "id": "af749d6c-c036-40ea-ac3a-bc71b3497a4b",
   "metadata": {},
   "source": [
    "#### *Ошибка 8*"
   ]
  },
  {
   "cell_type": "code",
   "execution_count": null,
   "id": "75597bc6-2d2f-4f7c-8db1-aaad435f11e8",
   "metadata": {},
   "outputs": [],
   "source": [
    "a = 1 \n",
    "a, d"
   ]
  },
  {
   "cell_type": "markdown",
   "id": "984bc7a5-7f76-44a6-bf81-84652fd8fd4e",
   "metadata": {},
   "source": [
    "Чтобы переменную можно было использовать, ей обязательно должно быть присвоено значение. Использование переменной до того, как ей было присвоено значение, всегда приведет к ошибке."
   ]
  },
  {
   "cell_type": "markdown",
   "id": "98a2aa38-7a1f-4e7d-b1d2-16a4767431fa",
   "metadata": {},
   "source": [
    "#### *Ошибка 9*"
   ]
  },
  {
   "cell_type": "code",
   "execution_count": null,
   "id": "3dc53f17-8e39-4a4c-ae61-65d301ff89ca",
   "metadata": {},
   "outputs": [],
   "source": [
    "print(abs(-1))\n",
    "abs = 5\n",
    "print(abs(-1))"
   ]
  },
  {
   "cell_type": "markdown",
   "id": "c5bd70ed-df6f-4162-b1b0-c0a318e3dd99",
   "metadata": {},
   "source": [
    "Зарезрвированные имена нельзя использовать в качествве переменных"
   ]
  },
  {
   "cell_type": "markdown",
   "id": "a6feda1f-5c9d-4eb2-abb1-091d8739ca74",
   "metadata": {},
   "source": [
    "# Задание 3"
   ]
  },
  {
   "cell_type": "markdown",
   "id": "7315fa15-7f0c-4cfb-bc33-94e7dd6a5699",
   "metadata": {},
   "source": [
    "#### 1. Что означает “неизменяемость”, и какие три основных типа Python считаются неизменяемыми?"
   ]
  },
  {
   "cell_type": "markdown",
   "id": "0aed762b-bbf3-4657-8f57-d4f52635bb9b",
   "metadata": {},
   "source": [
    "“Неизменяемый” объект — это такой объект, который после создания нельзя модифицировать. Например строки, кортежи и числа"
   ]
  },
  {
   "cell_type": "code",
   "execution_count": null,
   "id": "3f4b1385-e452-4497-a074-0922dd8bc23b",
   "metadata": {},
   "outputs": [],
   "source": [
    "s='stroka'\n",
    "s[0]='h'"
   ]
  },
  {
   "cell_type": "code",
   "execution_count": null,
   "id": "28853936-8138-45a6-8809-b2c2738e6983",
   "metadata": {},
   "outputs": [],
   "source": [
    "s.append('h')"
   ]
  },
  {
   "cell_type": "code",
   "execution_count": null,
   "id": "7dbc06ed-1e21-465c-8bd0-d6c2ed9d0684",
   "metadata": {},
   "outputs": [],
   "source": [
    "t = (1, 2, 3)\n",
    "t[0] = 100 "
   ]
  },
  {
   "cell_type": "code",
   "execution_count": null,
   "id": "9f482db3-4ba2-483c-8ad9-bd04beff95e1",
   "metadata": {},
   "outputs": [],
   "source": [
    "t.append(4)"
   ]
  },
  {
   "cell_type": "code",
   "execution_count": null,
   "id": "0b7d10ce-d223-4a3d-a37b-7d1cafe0a866",
   "metadata": {},
   "outputs": [],
   "source": [
    "x=10\n",
    "print(id(x))\n",
    "x+=1\n",
    "print(id(x))"
   ]
  },
  {
   "cell_type": "code",
   "execution_count": null,
   "id": "cb71a0d4-6fe8-4927-b98d-01bb2e0c1894",
   "metadata": {},
   "outputs": [],
   "source": [
    "x[0]=5"
   ]
  },
  {
   "cell_type": "markdown",
   "id": "0a113572-ddd0-4653-aa6b-dd5ab0d55d90",
   "metadata": {},
   "source": [
    "#### 2. Какие инструменты можно использовать для нахождения квадратного корня и квадрата числа?"
   ]
  },
  {
   "cell_type": "markdown",
   "id": "27f2c16c-4cf4-466f-8d18-3ee81966d2dd",
   "metadata": {},
   "source": [
    "Импортируя модуль math,можно использовать встроенную функцию pow(число ,степень ), можно вызвыть функцию math.sqrt(), выражение вида x**степень"
   ]
  },
  {
   "cell_type": "code",
   "execution_count": null,
   "id": "ec6c7e50-282a-400a-b073-f82d2c815b72",
   "metadata": {},
   "outputs": [],
   "source": [
    "import math\n",
    "math.sqrt(16)"
   ]
  },
  {
   "cell_type": "code",
   "execution_count": null,
   "id": "e95fecd5-fff7-4f40-83e2-b01183c06195",
   "metadata": {},
   "outputs": [],
   "source": [
    "pow(16,1/2)"
   ]
  },
  {
   "cell_type": "code",
   "execution_count": null,
   "id": "a6b27e3f-f798-4894-9345-fda1e4c1a460",
   "metadata": {},
   "outputs": [],
   "source": [
    "16**(1/2)"
   ]
  },
  {
   "cell_type": "markdown",
   "id": "57cbf603-b412-4c71-bc5d-d248d22714b5",
   "metadata": {},
   "source": [
    "#### 3. Как можно преобразовывать целое число в число с плавающей точкой?"
   ]
  },
  {
   "cell_type": "markdown",
   "id": "be07dc05-df9e-45e4-a1bc-953ed0b3aa63",
   "metadata": {},
   "source": [
    "Функция float () преобразует целое число в число с плавающей точкой; смешивание целых чисел и чисел с плавающей точкой внутри выражения также приводит к преобразованию."
   ]
  },
  {
   "cell_type": "code",
   "execution_count": null,
   "id": "f62f73c3-2e14-4a7a-a015-36148c8c5787",
   "metadata": {},
   "outputs": [],
   "source": [
    "num=10\n",
    "type(num)"
   ]
  },
  {
   "cell_type": "code",
   "execution_count": null,
   "id": "6aca81dd-d363-42c5-a095-d6f2b482e7db",
   "metadata": {},
   "outputs": [],
   "source": [
    "num+=0.1\n",
    "type(num)"
   ]
  },
  {
   "cell_type": "code",
   "execution_count": null,
   "id": "da234be9-fafa-4673-b439-8a9a945ee142",
   "metadata": {},
   "outputs": [],
   "source": [
    "num=10\n",
    "type(num)"
   ]
  },
  {
   "cell_type": "code",
   "execution_count": null,
   "id": "7913cce2-d18e-46ad-87f5-5904cedf164a",
   "metadata": {},
   "outputs": [],
   "source": [
    "num=float(num)\n",
    "type(num)"
   ]
  },
  {
   "cell_type": "markdown",
   "id": "464c2636-b5bd-415f-8c0a-e867d279ce54",
   "metadata": {},
   "source": [
    "#### 4. Взгляните на следующие три оператора. Изменяют ли они значение, выводимое для А?</br>\n",
    " А = \"spam”</br>\n",
    " В = А</br>\n",
    " В = \"shrubbery\"</br>"
   ]
  },
  {
   "cell_type": "markdown",
   "id": "c28b6ff6-e64f-4570-8585-6807b7412923",
   "metadata": {},
   "source": [
    "Нет, проверим на какие адреса в памяти ссылаются переменные"
   ]
  },
  {
   "cell_type": "code",
   "execution_count": null,
   "id": "c23a578e-a2c2-4074-bacb-4eabb92a7497",
   "metadata": {},
   "outputs": [],
   "source": [
    "A = 'spam'\n",
    "B = A\n",
    "id(A), id(B)"
   ]
  },
  {
   "cell_type": "code",
   "execution_count": null,
   "id": "1b8603d7-951b-4b58-8c37-cc770ea0b5b3",
   "metadata": {},
   "outputs": [],
   "source": [
    "B = 'shrubbery'\n",
    "id(A), id(B)"
   ]
  },
  {
   "cell_type": "markdown",
   "id": "475cb3b1-6508-4012-944a-282d1d93ba11",
   "metadata": {},
   "source": [
    "Когда переменной B присвается новая строка, она начинает указывать на новую строку и связь между обрывается"
   ]
  },
  {
   "cell_type": "markdown",
   "id": "e1df035c-efe8-48ac-a9ad-8ae25e917fb5",
   "metadata": {},
   "source": [
    "#### 5. Взгляните на приведенные ниже три оператора. Изменяют ли они значение, выводимое для А?\n",
    " А = [\"spam\"]</br>\n",
    " В = А</br>\n",
    " В[0] = \"shrubbery\"</br>"
   ]
  },
  {
   "cell_type": "code",
   "execution_count": null,
   "id": "49e4f3d3-b4a9-4550-93c1-9a32d82c8ddf",
   "metadata": {},
   "outputs": [],
   "source": [
    "A = [\"spam\"]\n",
    "B = A\n",
    "B[0] = \"shrubbery\"\n",
    "A,B"
   ]
  },
  {
   "cell_type": "markdown",
   "id": "41cba8a3-a23b-4bde-ac17-bdc359cdd4ed",
   "metadata": {},
   "source": [
    "Да, изменяют, потому что мы изменили объект, на который ссылаются обе переменные"
   ]
  },
  {
   "cell_type": "code",
   "execution_count": null,
   "id": "b75aad5f-d053-4ed5-9f1b-485f9a61da9e",
   "metadata": {},
   "outputs": [],
   "source": []
  },
  {
   "cell_type": "markdown",
   "id": "aadce374-b9fd-4274-a30b-ea1c40d56dce",
   "metadata": {},
   "source": [
    "#### 6. Для заданной строки S со значением \"s,pa,m\" назовите два способа извлечения двух символов из середины строки."
   ]
  },
  {
   "cell_type": "markdown",
   "id": "94df7155-038e-4fff-93d8-f0b4c87c6d30",
   "metadata": {},
   "source": [
    "Первый способ заключается в использовании строкового метода split(sep), который разбивает строку на *список* подстрок по разделителю sep, в нашем случае по запятой, а потом взять нужный элемент из списка</br>\n",
    "Также можем использовать срезы, сразу выбрав нужный промежуток, где находятся наши символы"
   ]
  },
  {
   "cell_type": "code",
   "execution_count": null,
   "id": "cc9e3550-37ce-4b06-994e-5c886f0a8018",
   "metadata": {},
   "outputs": [],
   "source": [
    "s='s,pa,m'\n",
    "l=s.split(',')\n",
    "l,l[1],s[2:4]"
   ]
  },
  {
   "cell_type": "markdown",
   "id": "304e100b-5f77-4feb-90a5-a4120bec55e1",
   "metadata": {},
   "source": [
    "#### 7. Назовите два способа построения словаря с двумя ключами, ’ а ’ и ’Ь’, с каждым из которых ассоциировано значение 0."
   ]
  },
  {
   "cell_type": "markdown",
   "id": "fa8dc8e9-0cae-42d3-8d71-67243ab23ed2",
   "metadata": {},
   "source": [
    "Словарь можно создать с помощью метода словаря fromkeys, передавая последовательность ключей и одно значение, которое будет ассоциировано со всеми ключами из последовательности"
   ]
  },
  {
   "cell_type": "code",
   "execution_count": null,
   "id": "5be3b9a4-5e9d-41eb-9fd3-bc76916d38f1",
   "metadata": {},
   "outputs": [],
   "source": [
    "dict.fromkeys('ab',0)"
   ]
  },
  {
   "cell_type": "markdown",
   "id": "f69913fb-c40f-45b4-b796-946bd6725565",
   "metadata": {},
   "source": [
    "Использование функции dict()"
   ]
  },
  {
   "cell_type": "code",
   "execution_count": null,
   "id": "47b360db-e04c-4abd-8940-a37fcc6e3366",
   "metadata": {},
   "outputs": [],
   "source": [
    "dict(a=0, b=0)"
   ]
  },
  {
   "cell_type": "markdown",
   "id": "fa4905f0-0b6d-4739-b778-cc4511307415",
   "metadata": {},
   "source": [
    "Можно использовать серию присваивания "
   ]
  },
  {
   "cell_type": "code",
   "execution_count": null,
   "id": "8380437a-c52c-49e3-b6e1-9ac989d17049",
   "metadata": {},
   "outputs": [],
   "source": [
    "d={}\n",
    "d['a']=0\n",
    "d['b']=0\n",
    "d"
   ]
  },
  {
   "cell_type": "markdown",
   "id": "16d798d4-685e-45ca-8453-6a72e40e9041",
   "metadata": {},
   "source": [
    "#### 8. Напишите выражение, которое изменяет первый элемент в кортеже. В процессе кортеж (4,5,6) должен стать (1,5,6)."
   ]
  },
  {
   "cell_type": "markdown",
   "id": "2714613d-5d40-499f-8658-eae4fd0b4f51",
   "metadata": {},
   "source": [
    "Получим новый кортеж с помощью преобразований строк"
   ]
  },
  {
   "cell_type": "code",
   "execution_count": 130,
   "id": "51e04755-5534-4a9b-96fd-157233a4d7c6",
   "metadata": {},
   "outputs": [
    {
     "name": "stdout",
     "output_type": "stream",
     "text": [
      "(1, 5, 6)\n"
     ]
    }
   ],
   "source": [
    "t = (4, 5, 6)\n",
    "lst = list(t)  \n",
    "lst[0] = 1    \n",
    "t = tuple(lst) \n",
    "print(t)"
   ]
  },
  {
   "cell_type": "markdown",
   "id": "e895cbac-1090-4bd3-8f93-f6f48f983d77",
   "metadata": {},
   "source": [
    "Также можем получить новый кортеж с помощью разрезов:"
   ]
  },
  {
   "cell_type": "code",
   "execution_count": 128,
   "id": "d2a5d927-6f49-44c9-9397-35d9cba2f480",
   "metadata": {},
   "outputs": [
    {
     "data": {
      "text/plain": [
       "(1, 5, 6)"
      ]
     },
     "execution_count": 128,
     "metadata": {},
     "output_type": "execute_result"
    }
   ],
   "source": [
    "t=(4,5,6)\n",
    "t=(1,)+t[1:]\n",
    "t"
   ]
  },
  {
   "cell_type": "code",
   "execution_count": null,
   "id": "ccfac51a-4ad5-4175-8145-b86b44eb57b5",
   "metadata": {},
   "outputs": [],
   "source": []
  }
 ],
 "metadata": {
  "kernelspec": {
   "display_name": "Python 3 (ipykernel)",
   "language": "python",
   "name": "python3"
  },
  "language_info": {
   "codemirror_mode": {
    "name": "ipython",
    "version": 3
   },
   "file_extension": ".py",
   "mimetype": "text/x-python",
   "name": "python",
   "nbconvert_exporter": "python",
   "pygments_lexer": "ipython3",
   "version": "3.12.7"
  }
 },
 "nbformat": 4,
 "nbformat_minor": 5
}
